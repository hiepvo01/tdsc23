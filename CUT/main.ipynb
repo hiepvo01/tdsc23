{
 "cells": [
  {
   "cell_type": "code",
   "execution_count": 6,
   "metadata": {},
   "outputs": [
    {
     "name": "stdout",
     "output_type": "stream",
     "text": [
      "hub://activeloop/animal10n-train loaded successfully.\n",
      "This dataset can be visualized in Jupyter Notebook by ds.visualize() or at https://app.activeloop.ai/activeloop/animal10n-train\n"
     ]
    }
   ],
   "source": [
    "import hub\n",
    "ds = hub.load(\"hub://activeloop/animal10n-train\")\n",
    "import matplotlib.pyplot as plt\n",
    "import os\n",
    "import torch\n",
    "import numpy as np\n",
    "from PIL import Image"
   ]
  },
  {
   "cell_type": "code",
   "execution_count": 11,
   "metadata": {},
   "outputs": [
    {
     "name": "stdout",
     "output_type": "stream",
     "text": [
      "(50000, 64, 64, 3)\n",
      "d:/Projects/TDSC23/CUT\n",
      "200\n"
     ]
    }
   ],
   "source": [
    "print(ds['images'].shape)\n",
    "directory = os.getcwd().replace(\"\\\\\", '/')\n",
    "print(directory)\n",
    "valid = False\n",
    "limit = 20\n",
    "\n",
    "labels = ['Cat', 'Lynx', 'Wolf', 'Coyote', 'Cheetah', 'Jaguar', '']\n",
    "\n",
    "for i in range(50000):\n",
    "    if valid:\n",
    "        break\n",
    "    else:\n",
    "    # else:\n",
    "        dir_path = directory+ \"/datasets/animals10/\" + str(ds.labels[i].numpy()[0])\n",
    "        img = ds.images[i].numpy()\n",
    "        im = Image.fromarray(img)\n",
    "\n",
    "        total = 0\n",
    "        for idx in range(10):\n",
    "            total += len([entry for entry in os.listdir(dir_path) if os.path.isfile(os.path.join(dir_path, entry))])\n",
    "        if total == limit * 10:\n",
    "            valid = True    \n",
    "        \n",
    "        # if len([entry for entry in os.listdir(dir_path) if os.path.isfile(os.path.join(dir_path, entry))]) < limit:\n",
    "        #     im.save(dir_path + \"/\" + str(len([entry for entry in os.listdir(dir_path) if os.path.isfile(os.path.join(dir_path, entry))]))+\".jpg\")"
   ]
  },
  {
   "cell_type": "code",
   "execution_count": null,
   "metadata": {},
   "outputs": [],
   "source": []
  }
 ],
 "metadata": {
  "kernelspec": {
   "display_name": "Python 3.8.10 ('.venv': venv)",
   "language": "python",
   "name": "python3"
  },
  "language_info": {
   "codemirror_mode": {
    "name": "ipython",
    "version": 3
   },
   "file_extension": ".py",
   "mimetype": "text/x-python",
   "name": "python",
   "nbconvert_exporter": "python",
   "pygments_lexer": "ipython3",
   "version": "3.8.10"
  },
  "orig_nbformat": 4,
  "vscode": {
   "interpreter": {
    "hash": "ca449a8b01354c404dd94953fd896c862aa08750e7d87a66c6a699f1c9eb2959"
   }
  }
 },
 "nbformat": 4,
 "nbformat_minor": 2
}
